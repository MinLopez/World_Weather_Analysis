{
 "cells": [
  {
   "cell_type": "code",
   "execution_count": 1,
   "id": "1234ce6a",
   "metadata": {},
   "outputs": [],
   "source": [
    "# Import the random module.\n",
    "import random"
   ]
  },
  {
   "cell_type": "code",
   "execution_count": 3,
   "id": "536fbd1c",
   "metadata": {},
   "outputs": [
    {
     "data": {
      "text/plain": [
       "21"
      ]
     },
     "execution_count": 3,
     "metadata": {},
     "output_type": "execute_result"
    }
   ],
   "source": [
    "random.randint(-90, 90)"
   ]
  },
  {
   "cell_type": "code",
   "execution_count": 4,
   "id": "6b3252e9",
   "metadata": {},
   "outputs": [
    {
     "data": {
      "text/plain": [
       "0.8210786303532412"
      ]
     },
     "execution_count": 4,
     "metadata": {},
     "output_type": "execute_result"
    }
   ],
   "source": [
    "random.random()"
   ]
  },
  {
   "cell_type": "code",
   "execution_count": 5,
   "id": "26d68e76",
   "metadata": {},
   "outputs": [
    {
     "data": {
      "text/plain": [
       "-45.96311611157668"
      ]
     },
     "execution_count": 5,
     "metadata": {},
     "output_type": "execute_result"
    }
   ],
   "source": [
    "random_number = random.randint (-90, 89) + random.random()\n",
    "random_number"
   ]
  },
  {
   "cell_type": "code",
   "execution_count": 7,
   "id": "21d9add5",
   "metadata": {},
   "outputs": [
    {
     "data": {
      "text/plain": [
       "[-76.78130108642576,\n",
       " 79.54391929616916,\n",
       " 13.308124521011583,\n",
       " 77.13094096878663,\n",
       " -44.87469045527365,\n",
       " -43.653554067174184,\n",
       " -49.592958398487774,\n",
       " 85.78127124161708,\n",
       " 30.50824994730516,\n",
       " 8.691292489181233]"
      ]
     },
     "execution_count": 7,
     "metadata": {},
     "output_type": "execute_result"
    }
   ],
   "source": [
    "x = 1\n",
    "latitudes = []\n",
    "while x < 11:\n",
    "    random_lat = random.randint(-90, 89) + random.random()\n",
    "    latitudes.append(random_lat)\n",
    "    x += 1\n",
    "    \n",
    "latitudes"
   ]
  },
  {
   "cell_type": "code",
   "execution_count": 8,
   "id": "adcd3e00",
   "metadata": {},
   "outputs": [
    {
     "data": {
      "text/plain": [
       "24"
      ]
     },
     "execution_count": 8,
     "metadata": {},
     "output_type": "execute_result"
    }
   ],
   "source": [
    "random.randrange(-90, 90, step=1)"
   ]
  },
  {
   "cell_type": "code",
   "execution_count": 9,
   "id": "22797e79",
   "metadata": {},
   "outputs": [
    {
     "data": {
      "text/plain": [
       "-66"
      ]
     },
     "execution_count": 9,
     "metadata": {},
     "output_type": "execute_result"
    }
   ],
   "source": [
    "random.randrange(-90, 90, step=3)"
   ]
  },
  {
   "cell_type": "code",
   "execution_count": 10,
   "id": "4684aea2",
   "metadata": {},
   "outputs": [
    {
     "data": {
      "text/plain": [
       "-61.90853903150023"
      ]
     },
     "execution_count": 10,
     "metadata": {},
     "output_type": "execute_result"
    }
   ],
   "source": [
    "random.uniform(-90, 90) "
   ]
  },
  {
   "cell_type": "code",
   "execution_count": 11,
   "id": "881d7598",
   "metadata": {},
   "outputs": [],
   "source": [
    "# Import the NumPy module.\n",
    "import numpy as np"
   ]
  },
  {
   "cell_type": "code",
   "execution_count": 12,
   "id": "f1369a85",
   "metadata": {},
   "outputs": [
    {
     "data": {
      "text/plain": [
       "50.03357106326919"
      ]
     },
     "execution_count": 12,
     "metadata": {},
     "output_type": "execute_result"
    }
   ],
   "source": [
    "np.random.uniform(-90.000, 90.000)"
   ]
  },
  {
   "cell_type": "code",
   "execution_count": 14,
   "id": "bcc5ea06",
   "metadata": {},
   "outputs": [
    {
     "data": {
      "text/plain": [
       "array([-77.4214305 ,  -4.59380557, -89.0030765 ,   9.72250894,\n",
       "       -50.29539547,  14.9562712 ,  86.31876046,  43.80397667,\n",
       "       -38.7365598 ,  -4.02413426, -55.61442101, -30.67669921,\n",
       "        28.01896738, -71.25669226, -43.72267177,  64.02235983,\n",
       "        57.86462442,  41.06008179,  31.73916843,   2.35160289,\n",
       "       -77.67845179,  50.70495427, -16.85922562,  29.77196349,\n",
       "       -61.68425306,  61.71782688,  22.72001079, -32.04790142,\n",
       "       -71.93597262, -84.76323031,  67.8549128 , -62.99015077,\n",
       "       -52.54999096, -10.96392754,  -9.6884489 ,  -3.47780326,\n",
       "        59.59932538, -36.43300484,  48.01101089,  77.35785709,\n",
       "        -8.49244824, -65.90507899,  86.3612511 ,  65.64149232,\n",
       "       -60.10047116,  79.6472089 ,   1.91470576, -48.55521959,\n",
       "        -4.28677001, -63.55111222])"
      ]
     },
     "execution_count": 14,
     "metadata": {},
     "output_type": "execute_result"
    }
   ],
   "source": [
    "np.random.uniform(low=-90, high=90, size=50)"
   ]
  },
  {
   "cell_type": "code",
   "execution_count": 15,
   "id": "282ef59e",
   "metadata": {},
   "outputs": [],
   "source": [
    "# Import timeit.\n",
    "import timeit"
   ]
  },
  {
   "cell_type": "code",
   "execution_count": 16,
   "id": "4c826b4c",
   "metadata": {},
   "outputs": [
    {
     "name": "stdout",
     "output_type": "stream",
     "text": [
      "50.1 µs ± 3.74 µs per loop (mean ± std. dev. of 7 runs, 10000 loops each)\n"
     ]
    }
   ],
   "source": [
    "%timeit np.random.uniform(-90.000, 90.000, size=1500)"
   ]
  },
  {
   "cell_type": "code",
   "execution_count": 17,
   "id": "399bde9b",
   "metadata": {},
   "outputs": [
    {
     "name": "stdout",
     "output_type": "stream",
     "text": [
      "6.09 ms ± 404 µs per loop (mean ± std. dev. of 7 runs, 100 loops each)\n"
     ]
    }
   ],
   "source": [
    "def latitudes(size):\n",
    "    latitudes = []\n",
    "    x = 0\n",
    "    while x < (size):\n",
    "        random_lat = random.randint(-90, 90) + random.random()\n",
    "        latitudes.append(random_lat)\n",
    "        x += 1\n",
    "    return latitudes\n",
    "# Call the function with 1500.\n",
    "%timeit latitudes(1500)"
   ]
  }
 ],
 "metadata": {
  "kernelspec": {
   "display_name": "PythonData",
   "language": "python",
   "name": "pythondata"
  },
  "language_info": {
   "codemirror_mode": {
    "name": "ipython",
    "version": 3
   },
   "file_extension": ".py",
   "mimetype": "text/x-python",
   "name": "python",
   "nbconvert_exporter": "python",
   "pygments_lexer": "ipython3",
   "version": "3.7.10"
  }
 },
 "nbformat": 4,
 "nbformat_minor": 5
}
